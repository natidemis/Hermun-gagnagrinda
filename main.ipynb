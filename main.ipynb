{
 "cells": [
  {
   "cell_type": "code",
   "execution_count": 24,
   "metadata": {},
   "outputs": [
    {
     "name": "stdout",
     "output_type": "stream",
     "text": [
      "Iteration: 1 - n = 1000 -- Linked list time: 0.002997159957885742 Treap time: 0.009999513626098633 BST time: 0.006001472473144531\n",
      "Iteration: 2 - n = 5000 -- Linked list time: 0.026000261306762695 Treap time: 0.09099721908569336 BST time: 0.04999732971191406\n",
      "Iteration: 3 - n = 25000 -- Linked list time: 0.14076447486877441 Treap time: 0.26383304595947266 BST time: 0.25377726554870605\n",
      "Iteration: 4 - n = 125000 -- Linked list time: 0.2996969223022461 Treap time: 1.946664810180664 BST time: 1.028186321258545\n",
      "Iteration: 5 - n = 625000 -- Linked list time: 1.8786756992340088 Treap time: 12.96297311782837 BST time: 6.863384485244751\n",
      "Iteration: 6 - n = 3125000 -- Linked list time: 8.086268186569214 Treap time: 67.03196167945862 BST time: 47.50890111923218\n"
     ]
    }
   ],
   "source": [
    "from LL import LinkedList\n",
    "from BST import BinarySearchTree\n",
    "from Treap import Treap\n",
    "import random\n",
    "import time\n",
    "\n",
    "n = 1000\n",
    "iteration = 1\n",
    "lltime = ttime = bsttime = 0\n",
    "lltimes = []\n",
    "ttimes = []\n",
    "bsttimes = []\n",
    "ns = []\n",
    "while(lltime + ttime +bsttime  < 30):\n",
    "    vals = [i for i in range(n)]\n",
    "    random.shuffle(vals)\n",
    "    ll = LinkedList()\n",
    "    bst = BinarySearchTree()\n",
    "    t = Treap()\n",
    "    lltime = time.time()\n",
    "    for val in vals:\n",
    "        ll.insert(LinkedList.Node(val = val))\n",
    "    lltime = time.time() - lltime\n",
    "    lltimes.append(lltime)\n",
    "    ttime = time.time()\n",
    "    for val in vals:\n",
    "        t.head = t.insert(Treap.Node(val=val,priority=Treap.gen_priority()),t.head)\n",
    "    ttime = time.time() - ttime\n",
    "    ttimes.append(ttime)\n",
    "    bsttime = time.time()\n",
    "    for val in vals:\n",
    "        bst.insert(child = BinarySearchTree.Node(val = val))\n",
    "    bsttime = time.time() - bsttime\n",
    "    bsttimes.append(bsttime)\n",
    "    ns.append(n)\n",
    "    print(f\"Iteration: {iteration} - n = {n} --\",f\"Linked list time: {lltime}\", f\"Treap time: {ttime}\", f\"BST time: {bsttime}\")\n",
    "    iteration += 1\n",
    "    n *= 5"
   ]
  },
  {
   "cell_type": "code",
   "execution_count": 25,
   "metadata": {},
   "outputs": [
    {
     "data": {
      "image/png": "[encoded data removed]",
      "text/plain": [
       "<Figure size 432x288 with 1 Axes>"
      ]
     },
     "metadata": {
      "needs_background": "light"
     },
     "output_type": "display_data"
    }
   ],
   "source": [
    "import matplotlib.pyplot as plt\n",
    "\n",
    "plt.plot(ns, lltimes,label = \"Linked list\")\n",
    "plt.plot(ns, bsttimes, label = \"BST\")\n",
    "plt.plot(ns, ttimes, label= \"Treap\")\n",
    "plt.xlabel(\"Number of elements\")\n",
    "plt.ylabel(\"Seconds to insert \")\n",
    "plt.legend()\n",
    "plt.show()"
   ]
  },
  {
   "cell_type": "code",
   "execution_count": 43,
   "metadata": {},
   "outputs": [
    {
     "data": {
      "text/html": [
       "<div>\n",
       "<style scoped>\n",
       "    .dataframe tbody tr th:only-of-type {\n",
       "        vertical-align: middle;\n",
       "    }\n",
       "\n",
       "    .dataframe tbody tr th {\n",
       "        vertical-align: top;\n",
       "    }\n",
       "\n",
       "    .dataframe thead th {\n",
       "        text-align: right;\n",
       "    }\n",
       "</style>\n",
       "<table border=\"1\" class=\"dataframe\">\n",
       "  <thead>\n",
       "    <tr style=\"text-align: right;\">\n",
       "      <th></th>\n",
       "      <th>n: 5000</th>\n",
       "      <th>n: 125000</th>\n",
       "      <th>n: 250000</th>\n",
       "      <th>n: 375000</th>\n",
       "      <th>n: 500000</th>\n",
       "    </tr>\n",
       "  </thead>\n",
       "  <tbody>\n",
       "    <tr>\n",
       "      <th>Linked List</th>\n",
       "      <td>0.002997</td>\n",
       "      <td>0.026000</td>\n",
       "      <td>0.140764</td>\n",
       "      <td>0.299697</td>\n",
       "      <td>1.878676</td>\n",
       "    </tr>\n",
       "    <tr>\n",
       "      <th>Treap</th>\n",
       "      <td>0.010000</td>\n",
       "      <td>0.090997</td>\n",
       "      <td>0.263833</td>\n",
       "      <td>1.946665</td>\n",
       "      <td>12.962973</td>\n",
       "    </tr>\n",
       "    <tr>\n",
       "      <th>BST</th>\n",
       "      <td>0.006001</td>\n",
       "      <td>0.049997</td>\n",
       "      <td>0.253777</td>\n",
       "      <td>1.028186</td>\n",
       "      <td>6.863384</td>\n",
       "    </tr>\n",
       "  </tbody>\n",
       "</table>\n",
       "</div>"
      ],
      "text/plain": [
       "              n: 5000  n: 125000  n: 250000  n: 375000  n: 500000\n",
       "Linked List  0.002997   0.026000   0.140764   0.299697   1.878676\n",
       "Treap        0.010000   0.090997   0.263833   1.946665  12.962973\n",
       "BST          0.006001   0.049997   0.253777   1.028186   6.863384"
      ]
     },
     "execution_count": 43,
     "metadata": {},
     "output_type": "execute_result"
    }
   ],
   "source": [
    "insertdict = {f\"n: {n}\": [lltimes[i],ttimes[i],bsttimes[i]] for (i,n) in enumerate(ns)}\n",
    "dfinsert = pd.DataFrame(insertdict, index=[\"Linked List\", \"Treap\", \"BST\"])\n",
    "dfinsert"
   ]
  },
  {
   "cell_type": "code",
   "execution_count": 12,
   "metadata": {},
   "outputs": [
    {
     "name": "stdout",
     "output_type": "stream",
     "text": [
      "n: 2000 - m:1 on iteration 1\n",
      "n: 2000 - m:25 on iteration 2\n",
      "n: 2000 - m:50 on iteration 3\n",
      "n: 2000 - m:75 on iteration 4\n",
      "n: 2000 - m:100 on iteration 5\n",
      "n: 5000 - m:1 on iteration 6\n",
      "n: 5000 - m:25 on iteration 7\n",
      "n: 5000 - m:50 on iteration 8\n",
      "n: 5000 - m:75 on iteration 9\n",
      "n: 5000 - m:100 on iteration 10\n"
     ]
    }
   ],
   "source": [
    "from LL import LinkedList\n",
    "from BST import BinarySearchTree\n",
    "from Treap import Treap\n",
    "import random\n",
    "import time\n",
    "\n",
    "\n",
    "ns = [2000,5000] #veljum tvö n\n",
    "ms = [1,25,50,75,100]\n",
    "\n",
    "iteration = 1\n",
    "\n",
    "search_results = {f\"n: {n} - m:{m}\": [] for m in ms for n in ns}\n",
    "#tsearch = {f\"n: {n} - m:{m}\": [] for m in ms for n in ns}\n",
    "#bstsearch = {f\"n: {n} - m:{m}\": [] for m in ms for n in ns}\n",
    "\n",
    "for n in ns:\n",
    "    for m in ms:\n",
    "        vals = [i for i in range(n)]\n",
    "        random.shuffle(vals)\n",
    "\n",
    "        search_values = list(list(range(n))*m)\n",
    "        random.shuffle(search_values)\n",
    "\n",
    "        ll = LinkedList()\n",
    "        bst = BinarySearchTree()\n",
    "        t = Treap()\n",
    "\n",
    "        #--------------Linked list----------\n",
    "        for val in vals:\n",
    "            ll.insert(LinkedList.Node(val = val))\n",
    "\n",
    "        lltime = time.time()\n",
    "        for sv in search_values:\n",
    "            ll.search(sv)\n",
    "        search_results[f\"n: {n} - m:{m}\"].append(time.time() - lltime)\n",
    "\n",
    "        #----------treap-------------\n",
    "        for val in vals:\n",
    "            t.head = t.insert(Treap.Node(val=val,priority=Treap.gen_priority()),t.head)\n",
    "\n",
    "        ttime = time.time()\n",
    "        for sv in search_values:\n",
    "            t.search(t.head,sv)\n",
    "        search_results[f\"n: {n} - m:{m}\"].append(time.time() - ttime)\n",
    "\n",
    "        #-----------bst-------\n",
    "        for val in vals:\n",
    "            bst.insert(child = BinarySearchTree.Node(val = val))\n",
    "\n",
    "        bsttime = time.time()\n",
    "        for sv in search_values:\n",
    "            bst.search(bst.head,sv)\n",
    "        search_results[f\"n: {n} - m:{m}\"].append(time.time() - bsttime)\n",
    "        print(f\"n: {n} - m:{m} on iteration {iteration}\")\n",
    "        iteration += 1\n"
   ]
  },
  {
   "cell_type": "code",
   "execution_count": 34,
   "metadata": {},
   "outputs": [
    {
     "data": {
      "text/html": [
       "<div>\n",
       "<style scoped>\n",
       "    .dataframe tbody tr th:only-of-type {\n",
       "        vertical-align: middle;\n",
       "    }\n",
       "\n",
       "    .dataframe tbody tr th {\n",
       "        vertical-align: top;\n",
       "    }\n",
       "\n",
       "    .dataframe thead th {\n",
       "        text-align: right;\n",
       "    }\n",
       "</style>\n",
       "<table border=\"1\" class=\"dataframe\">\n",
       "  <thead>\n",
       "    <tr style=\"text-align: right;\">\n",
       "      <th></th>\n",
       "      <th>n: 2000 - m:1</th>\n",
       "      <th>n: 2000 - m:25</th>\n",
       "      <th>n: 2000 - m:50</th>\n",
       "      <th>n: 2000 - m:75</th>\n",
       "      <th>n: 2000 - m:100</th>\n",
       "      <th>n: 5000 - m:1</th>\n",
       "      <th>n: 5000 - m:25</th>\n",
       "      <th>n: 5000 - m:50</th>\n",
       "      <th>n: 5000 - m:75</th>\n",
       "      <th>n: 5000 - m:100</th>\n",
       "    </tr>\n",
       "  </thead>\n",
       "  <tbody>\n",
       "    <tr>\n",
       "      <th>Linked List</th>\n",
       "      <td>0.414755</td>\n",
       "      <td>9.997618</td>\n",
       "      <td>20.054981</td>\n",
       "      <td>30.219663</td>\n",
       "      <td>40.478549</td>\n",
       "      <td>3.086565</td>\n",
       "      <td>75.049901</td>\n",
       "      <td>165.269582</td>\n",
       "      <td>254.127041</td>\n",
       "      <td>329.457551</td>\n",
       "    </tr>\n",
       "    <tr>\n",
       "      <th>Treap</th>\n",
       "      <td>0.015109</td>\n",
       "      <td>0.243883</td>\n",
       "      <td>0.477156</td>\n",
       "      <td>0.724456</td>\n",
       "      <td>0.866503</td>\n",
       "      <td>0.027232</td>\n",
       "      <td>0.688447</td>\n",
       "      <td>1.351000</td>\n",
       "      <td>2.312558</td>\n",
       "      <td>2.916594</td>\n",
       "    </tr>\n",
       "    <tr>\n",
       "      <th>BST</th>\n",
       "      <td>0.006001</td>\n",
       "      <td>0.198514</td>\n",
       "      <td>0.359589</td>\n",
       "      <td>0.488620</td>\n",
       "      <td>0.577130</td>\n",
       "      <td>0.017409</td>\n",
       "      <td>0.465415</td>\n",
       "      <td>1.127999</td>\n",
       "      <td>1.263764</td>\n",
       "      <td>2.008931</td>\n",
       "    </tr>\n",
       "  </tbody>\n",
       "</table>\n",
       "</div>"
      ],
      "text/plain": [
       "             n: 2000 - m:1  n: 2000 - m:25  n: 2000 - m:50  n: 2000 - m:75  \\\n",
       "Linked List       0.414755        9.997618       20.054981       30.219663   \n",
       "Treap             0.015109        0.243883        0.477156        0.724456   \n",
       "BST               0.006001        0.198514        0.359589        0.488620   \n",
       "\n",
       "             n: 2000 - m:100  n: 5000 - m:1  n: 5000 - m:25  n: 5000 - m:50  \\\n",
       "Linked List        40.478549       3.086565       75.049901      165.269582   \n",
       "Treap               0.866503       0.027232        0.688447        1.351000   \n",
       "BST                 0.577130       0.017409        0.465415        1.127999   \n",
       "\n",
       "             n: 5000 - m:75  n: 5000 - m:100  \n",
       "Linked List      254.127041       329.457551  \n",
       "Treap              2.312558         2.916594  \n",
       "BST                1.263764         2.008931  "
      ]
     },
     "execution_count": 34,
     "metadata": {},
     "output_type": "execute_result"
    }
   ],
   "source": [
    "from IPython.display import display\n",
    "import pandas as pd\n",
    "rows = [\"Linked List\", \"Treap\", \"BST\"]\n",
    "df = pd.DataFrame(search_results,index=rows)\n",
    "\n",
    "df = df[['n: 2000 - m:1', 'n: 2000 - m:25','n: 2000 - m:50','n: 2000 - m:75','n: 2000 - m:100','n: 5000 - m:1','n: 5000 - m:25','n: 5000 - m:50','n: 5000 - m:75', 'n: 5000 - m:100']]\n",
    "df"
   ]
  },
  {
   "cell_type": "code",
   "execution_count": 40,
   "metadata": {},
   "outputs": [
    {
     "data": {
      "image/png": "[encoded data removed]",
      "text/plain": [
       "<Figure size 432x288 with 1 Axes>"
      ]
     },
     "metadata": {
      "needs_background": "light"
     },
     "output_type": "display_data"
    }
   ],
   "source": [
    "ns = [2000*m for m in [1,25,50,75,100]]\n",
    "plt.plot(ns, df.loc['Linked List'].tolist()[:5],label = \"Linked list\")\n",
    "plt.plot(ns, df.loc['BST'].tolist()[:5], label = \"BST\")\n",
    "plt.plot(ns, df.loc['Treap'].tolist()[:5], label= \"Treap\")\n",
    "plt.xlabel(\"Number of elements\")\n",
    "plt.ylabel(\"Seconds to insert \")\n",
    "plt.legend()\n",
    "plt.show()"
   ]
  },
  {
   "cell_type": "code",
   "execution_count": 42,
   "metadata": {},
   "outputs": [
    {
     "data": {
      "image/png": "[encoded data removed]",
      "text/plain": [
       "<Figure size 432x288 with 1 Axes>"
      ]
     },
     "metadata": {
      "needs_background": "light"
     },
     "output_type": "display_data"
    }
   ],
   "source": [
    "ns = [5000*m for m in [1,25,50,75,100]]\n",
    "plt.plot(ns, df.loc['Linked List'].tolist()[5:],label = \"Linked list\")\n",
    "plt.plot(ns, df.loc['BST'].tolist()[5:], label = \"BST\")\n",
    "plt.plot(ns, df.loc['Treap'].tolist()[5:], label= \"Treap\")\n",
    "plt.xlabel(\"Number of elements\")\n",
    "plt.ylabel(\"\")\n",
    "plt.legend()\n",
    "plt.show()"
   ]
  },
  {
   "cell_type": "code",
   "execution_count": 79,
   "metadata": {},
   "outputs": [],
   "source": [
    "n = 5000\n",
    "C = 1/sum([1/i for i in range(1,n+1)])\n",
    "P = [C/i for i in range(1,n+1)]\n",
    "\n",
    "len(P)\n",
    "keys = []\n",
    "for i,p in enumerate(P):\n",
    "    keys.extend([i for _ in range(round(n*p))])\n"
   ]
  },
  {
   "cell_type": "code",
   "execution_count": 80,
   "metadata": {},
   "outputs": [
    {
     "data": {
      "text/plain": [
       "4314"
      ]
     },
     "execution_count": 80,
     "metadata": {},
     "output_type": "execute_result"
    }
   ],
   "source": [
    "len(keys)\n"
   ]
  }
 ],
 "metadata": {
  "interpreter": {
   "hash": "f628c17059f81fbe5652e6e47d7b363db17f1fac5268a27a43e7f1d315d405a7"
  },
  "kernelspec": {
   "display_name": "Python 3.8.10 64-bit",
   "language": "python",
   "name": "python3"
  },
  "language_info": {
   "codemirror_mode": {
    "name": "ipython",
    "version": 3
   },
   "file_extension": ".py",
   "mimetype": "text/x-python",
   "name": "python",
   "nbconvert_exporter": "python",
   "pygments_lexer": "ipython3",
   "version": "3.8.10"
  },
  "orig_nbformat": 4
 },
 "nbformat": 4,
 "nbformat_minor": 2
}
